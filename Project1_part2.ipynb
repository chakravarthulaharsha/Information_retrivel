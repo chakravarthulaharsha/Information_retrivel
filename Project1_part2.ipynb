{
 "cells": [
  {
   "cell_type": "markdown",
   "metadata": {},
   "source": [
    "<h3>DATA CLEANING AND Processing</h3>"
   ]
  },
  {
   "cell_type": "code",
   "execution_count": 166,
   "metadata": {},
   "outputs": [],
   "source": [
    "# Importing required modules\n",
    "import pandas as pd\n",
    "import numpy as np\n",
    "import re\n",
    "import nltk\n",
    "import matplotlib.pyplot as plt\n",
    "import seaborn as sns\n",
    "from matplotlib import style\n",
    "import matplotlib.ticker as mtick\n",
    "from matplotlib.gridspec import GridSpec\n",
    "from scipy import stats\n",
    "import tensorflow as tf\n",
    "from sklearn.compose import ColumnTransformer\n",
    "from sklearn.model_selection import train_test_split\n",
    "from sklearn.preprocessing import StandardScaler\n",
    "from sklearn.metrics import classification_report,confusion_matrix"
   ]
  },
  {
   "cell_type": "code",
   "execution_count": 167,
   "metadata": {},
   "outputs": [
    {
     "data": {
      "text/html": [
       "<div>\n",
       "<style scoped>\n",
       "    .dataframe tbody tr th:only-of-type {\n",
       "        vertical-align: middle;\n",
       "    }\n",
       "\n",
       "    .dataframe tbody tr th {\n",
       "        vertical-align: top;\n",
       "    }\n",
       "\n",
       "    .dataframe thead th {\n",
       "        text-align: right;\n",
       "    }\n",
       "</style>\n",
       "<table border=\"1\" class=\"dataframe\">\n",
       "  <thead>\n",
       "    <tr style=\"text-align: right;\">\n",
       "      <th></th>\n",
       "      <th>Description</th>\n",
       "      <th>Price</th>\n",
       "      <th>Rating</th>\n",
       "      <th>Review_Count</th>\n",
       "      <th>displaySize</th>\n",
       "      <th>Memory</th>\n",
       "      <th>Color</th>\n",
       "      <th>Brand</th>\n",
       "      <th>Url</th>\n",
       "    </tr>\n",
       "  </thead>\n",
       "  <tbody>\n",
       "    <tr>\n",
       "      <th>0</th>\n",
       "      <td>Moto G Stylus | 2022 | 2-Day battery | Unlocke...</td>\n",
       "      <td>$267.52</td>\n",
       "      <td>4.3 out of 5 stars</td>\n",
       "      <td>1,051</td>\n",
       "      <td>6.8 inches</td>\n",
       "      <td>128 GB</td>\n",
       "      <td>128 GB</td>\n",
       "      <td>Motorola</td>\n",
       "      <td>https://www.amazon.com/Stylus-battery-Unlocked...</td>\n",
       "    </tr>\n",
       "    <tr>\n",
       "      <th>1</th>\n",
       "      <td>Samsung Electronics Galaxy Note 20 5G Unlocked...</td>\n",
       "      <td>$255.99</td>\n",
       "      <td>4.2 out of 5 stars</td>\n",
       "      <td>1,430</td>\n",
       "      <td>6.7 inches</td>\n",
       "      <td>128.0 GB</td>\n",
       "      <td>Mystic Gray</td>\n",
       "      <td>SAMSUNG</td>\n",
       "      <td>https://www.amazon.com/Samsung-Electronics-Unl...</td>\n",
       "    </tr>\n",
       "    <tr>\n",
       "      <th>2</th>\n",
       "      <td>Samsung Galaxy S10e, 128GB, Flamingo Pink - Un...</td>\n",
       "      <td>$128.00</td>\n",
       "      <td>4.3 out of 5 stars</td>\n",
       "      <td>11,912</td>\n",
       "      <td>5.80 inches</td>\n",
       "      <td>128 GB</td>\n",
       "      <td>Flamingo Pink</td>\n",
       "      <td>SAMSUNG</td>\n",
       "      <td>https://www.amazon.com/Samsung-Factory-Unlocke...</td>\n",
       "    </tr>\n",
       "    <tr>\n",
       "      <th>3</th>\n",
       "      <td>TracFone TCL Flip 2, 8GB, Black - Prepaid Flip...</td>\n",
       "      <td>$19.99</td>\n",
       "      <td>4.0 out of 5 stars</td>\n",
       "      <td>370</td>\n",
       "      <td>1.44 inches</td>\n",
       "      <td>8 GB</td>\n",
       "      <td>Black</td>\n",
       "      <td>TracFone</td>\n",
       "      <td>https://www.amazon.com/TracFone-Flip-Prepaid-P...</td>\n",
       "    </tr>\n",
       "    <tr>\n",
       "      <th>4</th>\n",
       "      <td>SAMSUNG Galaxy A03 Core (SM-A032/DS) Dual SIM ...</td>\n",
       "      <td>$85.79</td>\n",
       "      <td>3.9 out of 5 stars</td>\n",
       "      <td>1,402</td>\n",
       "      <td>6.5 inches</td>\n",
       "      <td>32 GB</td>\n",
       "      <td>Black</td>\n",
       "      <td>SAMSUNG</td>\n",
       "      <td>https://www.amazon.com/Samsung-Galaxy-A03-Core...</td>\n",
       "    </tr>\n",
       "  </tbody>\n",
       "</table>\n",
       "</div>"
      ],
      "text/plain": [
       "                                         Description    Price  \\\n",
       "0  Moto G Stylus | 2022 | 2-Day battery | Unlocke...  $267.52   \n",
       "1  Samsung Electronics Galaxy Note 20 5G Unlocked...  $255.99   \n",
       "2  Samsung Galaxy S10e, 128GB, Flamingo Pink - Un...  $128.00   \n",
       "3  TracFone TCL Flip 2, 8GB, Black - Prepaid Flip...   $19.99   \n",
       "4  SAMSUNG Galaxy A03 Core (SM-A032/DS) Dual SIM ...   $85.79   \n",
       "\n",
       "               Rating Review_Count  displaySize    Memory          Color  \\\n",
       "0  4.3 out of 5 stars        1,051   6.8 inches    128 GB         128 GB   \n",
       "1  4.2 out of 5 stars        1,430   6.7 inches  128.0 GB    Mystic Gray   \n",
       "2  4.3 out of 5 stars       11,912  5.80 inches    128 GB  Flamingo Pink   \n",
       "3  4.0 out of 5 stars          370  1.44 inches      8 GB          Black   \n",
       "4  3.9 out of 5 stars        1,402   6.5 inches     32 GB          Black   \n",
       "\n",
       "      Brand                                                Url  \n",
       "0  Motorola  https://www.amazon.com/Stylus-battery-Unlocked...  \n",
       "1   SAMSUNG  https://www.amazon.com/Samsung-Electronics-Unl...  \n",
       "2   SAMSUNG  https://www.amazon.com/Samsung-Factory-Unlocke...  \n",
       "3  TracFone  https://www.amazon.com/TracFone-Flip-Prepaid-P...  \n",
       "4   SAMSUNG  https://www.amazon.com/Samsung-Galaxy-A03-Core...  "
      ]
     },
     "execution_count": 167,
     "metadata": {},
     "output_type": "execute_result"
    }
   ],
   "source": [
    "data = pd.read_csv('data.csv')\n",
    "data.head()"
   ]
  },
  {
   "cell_type": "code",
   "execution_count": 168,
   "metadata": {},
   "outputs": [
    {
     "data": {
      "text/plain": [
       "(2535, 9)"
      ]
     },
     "execution_count": 168,
     "metadata": {},
     "output_type": "execute_result"
    }
   ],
   "source": [
    "data.shape"
   ]
  },
  {
   "cell_type": "code",
   "execution_count": 169,
   "metadata": {},
   "outputs": [
    {
     "data": {
      "text/plain": [
       "Description      391\n",
       "Price            257\n",
       "Rating            29\n",
       "Review_Count     171\n",
       "displaySize       64\n",
       "Memory            39\n",
       "Color            110\n",
       "Brand             81\n",
       "Url             2535\n",
       "dtype: int64"
      ]
     },
     "execution_count": 169,
     "metadata": {},
     "output_type": "execute_result"
    }
   ],
   "source": [
    "data.nunique()"
   ]
  },
  {
   "cell_type": "code",
   "execution_count": 170,
   "metadata": {},
   "outputs": [
    {
     "name": "stderr",
     "output_type": "stream",
     "text": [
      "C:\\Users\\harsha\\AppData\\Local\\Temp\\ipykernel_13592\\4198393988.py:13: SettingWithCopyWarning: \n",
      "A value is trying to be set on a copy of a slice from a DataFrame.\n",
      "Try using .loc[row_indexer,col_indexer] = value instead\n",
      "\n",
      "See the caveats in the documentation: https://pandas.pydata.org/pandas-docs/stable/user_guide/indexing.html#returning-a-view-versus-a-copy\n",
      "  new_df[['displaySize','Memory']]  = new_df[['displaySize','Memory']].fillna('-1')\n",
      "C:\\Users\\harsha\\AppData\\Local\\Temp\\ipykernel_13592\\4198393988.py:14: SettingWithCopyWarning: \n",
      "A value is trying to be set on a copy of a slice from a DataFrame.\n",
      "Try using .loc[row_indexer,col_indexer] = value instead\n",
      "\n",
      "See the caveats in the documentation: https://pandas.pydata.org/pandas-docs/stable/user_guide/indexing.html#returning-a-view-versus-a-copy\n",
      "  new_df['Color'] = [re.sub(r'\\d+\\w+','black', x) for x in new_df['Color']]\n",
      "C:\\Users\\harsha\\AppData\\Local\\Temp\\ipykernel_13592\\4198393988.py:15: SettingWithCopyWarning: \n",
      "A value is trying to be set on a copy of a slice from a DataFrame.\n",
      "Try using .loc[row_indexer,col_indexer] = value instead\n",
      "\n",
      "See the caveats in the documentation: https://pandas.pydata.org/pandas-docs/stable/user_guide/indexing.html#returning-a-view-versus-a-copy\n",
      "  new_df['Price'] = [float(i.replace(',', '')) for i in new_df['Price']]\n",
      "C:\\Users\\harsha\\AppData\\Local\\Temp\\ipykernel_13592\\4198393988.py:16: SettingWithCopyWarning: \n",
      "A value is trying to be set on a copy of a slice from a DataFrame.\n",
      "Try using .loc[row_indexer,col_indexer] = value instead\n",
      "\n",
      "See the caveats in the documentation: https://pandas.pydata.org/pandas-docs/stable/user_guide/indexing.html#returning-a-view-versus-a-copy\n",
      "  new_df['Price'] = [float(i) for i in new_df['Price']]\n",
      "C:\\Users\\harsha\\AppData\\Local\\Temp\\ipykernel_13592\\4198393988.py:17: SettingWithCopyWarning: \n",
      "A value is trying to be set on a copy of a slice from a DataFrame.\n",
      "Try using .loc[row_indexer,col_indexer] = value instead\n",
      "\n",
      "See the caveats in the documentation: https://pandas.pydata.org/pandas-docs/stable/user_guide/indexing.html#returning-a-view-versus-a-copy\n",
      "  new_df['Memory'] = [x.lower() for x in new_df['Memory']]\n",
      "C:\\Users\\harsha\\AppData\\Local\\Temp\\ipykernel_13592\\4198393988.py:18: SettingWithCopyWarning: \n",
      "A value is trying to be set on a copy of a slice from a DataFrame.\n",
      "Try using .loc[row_indexer,col_indexer] = value instead\n",
      "\n",
      "See the caveats in the documentation: https://pandas.pydata.org/pandas-docs/stable/user_guide/indexing.html#returning-a-view-versus-a-copy\n",
      "  new_df['Memory'] = [i.replace('gb', '') for i in new_df['Memory']]\n",
      "C:\\Users\\harsha\\AppData\\Local\\Temp\\ipykernel_13592\\4198393988.py:19: SettingWithCopyWarning: \n",
      "A value is trying to be set on a copy of a slice from a DataFrame.\n",
      "Try using .loc[row_indexer,col_indexer] = value instead\n",
      "\n",
      "See the caveats in the documentation: https://pandas.pydata.org/pandas-docs/stable/user_guide/indexing.html#returning-a-view-versus-a-copy\n",
      "  new_df['Memory'] = [i.replace('millilit', '') for i in new_df['Memory']]\n",
      "C:\\Users\\harsha\\AppData\\Local\\Temp\\ipykernel_13592\\4198393988.py:20: SettingWithCopyWarning: \n",
      "A value is trying to be set on a copy of a slice from a DataFrame.\n",
      "Try using .loc[row_indexer,col_indexer] = value instead\n",
      "\n",
      "See the caveats in the documentation: https://pandas.pydata.org/pandas-docs/stable/user_guide/indexing.html#returning-a-view-versus-a-copy\n",
      "  new_df['Review_Count'] = [float(i.replace(',', '')) for i in new_df['Review_Count']]\n",
      "C:\\Users\\harsha\\AppData\\Local\\Temp\\ipykernel_13592\\4198393988.py:21: SettingWithCopyWarning: \n",
      "A value is trying to be set on a copy of a slice from a DataFrame.\n",
      "Try using .loc[row_indexer,col_indexer] = value instead\n",
      "\n",
      "See the caveats in the documentation: https://pandas.pydata.org/pandas-docs/stable/user_guide/indexing.html#returning-a-view-versus-a-copy\n",
      "  new_df['Review_Count'] = [float(i) for i in new_df['Review_Count']]\n",
      "C:\\Users\\harsha\\AppData\\Local\\Temp\\ipykernel_13592\\4198393988.py:22: SettingWithCopyWarning: \n",
      "A value is trying to be set on a copy of a slice from a DataFrame.\n",
      "Try using .loc[row_indexer,col_indexer] = value instead\n",
      "\n",
      "See the caveats in the documentation: https://pandas.pydata.org/pandas-docs/stable/user_guide/indexing.html#returning-a-view-versus-a-copy\n",
      "  new_df['Rating'] = new_df['Rating'].apply(lambda x: re.sub('[^0-9.]', '', x))\n"
     ]
    }
   ],
   "source": [
    "data['Price'] = [i[1:] for i in data['Price']]\n",
    "data['displaySize'] = data['displaySize'].astype(str) # convert float values to string\n",
    "data['displaySize'] = [i[:-7] for i in data['displaySize']]\n",
    "data['Memory'] = data['Memory'].astype(str)\n",
    "data['Memory'] = [i[:-3] for i in data['Memory']]\n",
    "data['Description'] = [x.lower() for x in data['Description']]\n",
    "data['Brand'] = [x.lower() for x in data['Brand'].astype(str)]\n",
    "data['Color'] = [x.lower() for x in data['Color'].astype(str)]\n",
    "data['Color'] = data['Color'].str.replace(' ', '')\n",
    "data['Brand'] = data['Brand'].str.replace(' ', '')\n",
    "\n",
    "new_df = data.dropna()\n",
    "new_df[['displaySize','Memory']]  = new_df[['displaySize','Memory']].fillna('-1')\n",
    "new_df['Color'] = [re.sub(r'\\d+\\w+','black', x) for x in new_df['Color']]\n",
    "new_df['Price'] = [float(i.replace(',', '')) for i in new_df['Price']]\n",
    "new_df['Price'] = [float(i) for i in new_df['Price']]\n",
    "new_df['Memory'] = [x.lower() for x in new_df['Memory']]\n",
    "new_df['Memory'] = [i.replace('gb', '') for i in new_df['Memory']]\n",
    "new_df['Memory'] = [i.replace('millilit', '') for i in new_df['Memory']]\n",
    "new_df['Review_Count'] = [float(i.replace(',', '')) for i in new_df['Review_Count']]\n",
    "new_df['Review_Count'] = [float(i) for i in new_df['Review_Count']]\n",
    "new_df['Rating'] = new_df['Rating'].apply(lambda x: re.sub('[^0-9.]', '', x))\n",
    "new_df = new_df.dropna(subset=['Rating'], how='all')\n",
    "# Convert Rating column to float\n",
    "new_df['Rating'] = pd.to_numeric(new_df['Rating'], errors='coerce')\n",
    "new_df.dropna(subset=['Rating'], inplace=True)\n"
   ]
  },
  {
   "cell_type": "code",
   "execution_count": 171,
   "metadata": {},
   "outputs": [
    {
     "data": {
      "text/html": [
       "<div>\n",
       "<style scoped>\n",
       "    .dataframe tbody tr th:only-of-type {\n",
       "        vertical-align: middle;\n",
       "    }\n",
       "\n",
       "    .dataframe tbody tr th {\n",
       "        vertical-align: top;\n",
       "    }\n",
       "\n",
       "    .dataframe thead th {\n",
       "        text-align: right;\n",
       "    }\n",
       "</style>\n",
       "<table border=\"1\" class=\"dataframe\">\n",
       "  <thead>\n",
       "    <tr style=\"text-align: right;\">\n",
       "      <th></th>\n",
       "      <th>Description</th>\n",
       "      <th>Price</th>\n",
       "      <th>Rating</th>\n",
       "      <th>Review_Count</th>\n",
       "      <th>displaySize</th>\n",
       "      <th>Memory</th>\n",
       "      <th>Color</th>\n",
       "      <th>Brand</th>\n",
       "      <th>Url</th>\n",
       "    </tr>\n",
       "  </thead>\n",
       "  <tbody>\n",
       "    <tr>\n",
       "      <th>0</th>\n",
       "      <td>moto g stylus | 2022 | 2-day battery | unlocke...</td>\n",
       "      <td>267.52</td>\n",
       "      <td>4.3 out of 5 stars</td>\n",
       "      <td>1,051</td>\n",
       "      <td>6.8</td>\n",
       "      <td>128</td>\n",
       "      <td>128gb</td>\n",
       "      <td>motorola</td>\n",
       "      <td>https://www.amazon.com/Stylus-battery-Unlocked...</td>\n",
       "    </tr>\n",
       "    <tr>\n",
       "      <th>1</th>\n",
       "      <td>samsung electronics galaxy note 20 5g unlocked...</td>\n",
       "      <td>255.99</td>\n",
       "      <td>4.2 out of 5 stars</td>\n",
       "      <td>1,430</td>\n",
       "      <td>6.7</td>\n",
       "      <td>128.0</td>\n",
       "      <td>mysticgray</td>\n",
       "      <td>samsung</td>\n",
       "      <td>https://www.amazon.com/Samsung-Electronics-Unl...</td>\n",
       "    </tr>\n",
       "    <tr>\n",
       "      <th>2</th>\n",
       "      <td>samsung galaxy s10e, 128gb, flamingo pink - un...</td>\n",
       "      <td>128.00</td>\n",
       "      <td>4.3 out of 5 stars</td>\n",
       "      <td>11,912</td>\n",
       "      <td>5.80</td>\n",
       "      <td>128</td>\n",
       "      <td>flamingopink</td>\n",
       "      <td>samsung</td>\n",
       "      <td>https://www.amazon.com/Samsung-Factory-Unlocke...</td>\n",
       "    </tr>\n",
       "    <tr>\n",
       "      <th>3</th>\n",
       "      <td>tracfone tcl flip 2, 8gb, black - prepaid flip...</td>\n",
       "      <td>19.99</td>\n",
       "      <td>4.0 out of 5 stars</td>\n",
       "      <td>370</td>\n",
       "      <td>1.44</td>\n",
       "      <td>8</td>\n",
       "      <td>black</td>\n",
       "      <td>tracfone</td>\n",
       "      <td>https://www.amazon.com/TracFone-Flip-Prepaid-P...</td>\n",
       "    </tr>\n",
       "    <tr>\n",
       "      <th>4</th>\n",
       "      <td>samsung galaxy a03 core (sm-a032/ds) dual sim ...</td>\n",
       "      <td>85.79</td>\n",
       "      <td>3.9 out of 5 stars</td>\n",
       "      <td>1,402</td>\n",
       "      <td>6.5</td>\n",
       "      <td>32</td>\n",
       "      <td>black</td>\n",
       "      <td>samsung</td>\n",
       "      <td>https://www.amazon.com/Samsung-Galaxy-A03-Core...</td>\n",
       "    </tr>\n",
       "  </tbody>\n",
       "</table>\n",
       "</div>"
      ],
      "text/plain": [
       "                                         Description   Price  \\\n",
       "0  moto g stylus | 2022 | 2-day battery | unlocke...  267.52   \n",
       "1  samsung electronics galaxy note 20 5g unlocked...  255.99   \n",
       "2  samsung galaxy s10e, 128gb, flamingo pink - un...  128.00   \n",
       "3  tracfone tcl flip 2, 8gb, black - prepaid flip...   19.99   \n",
       "4  samsung galaxy a03 core (sm-a032/ds) dual sim ...   85.79   \n",
       "\n",
       "               Rating Review_Count displaySize Memory         Color     Brand  \\\n",
       "0  4.3 out of 5 stars        1,051         6.8    128         128gb  motorola   \n",
       "1  4.2 out of 5 stars        1,430         6.7  128.0    mysticgray   samsung   \n",
       "2  4.3 out of 5 stars       11,912        5.80    128  flamingopink   samsung   \n",
       "3  4.0 out of 5 stars          370        1.44      8         black  tracfone   \n",
       "4  3.9 out of 5 stars        1,402         6.5     32         black   samsung   \n",
       "\n",
       "                                                 Url  \n",
       "0  https://www.amazon.com/Stylus-battery-Unlocked...  \n",
       "1  https://www.amazon.com/Samsung-Electronics-Unl...  \n",
       "2  https://www.amazon.com/Samsung-Factory-Unlocke...  \n",
       "3  https://www.amazon.com/TracFone-Flip-Prepaid-P...  \n",
       "4  https://www.amazon.com/Samsung-Galaxy-A03-Core...  "
      ]
     },
     "execution_count": 171,
     "metadata": {},
     "output_type": "execute_result"
    }
   ],
   "source": [
    "data.head()"
   ]
  },
  {
   "cell_type": "code",
   "execution_count": 172,
   "metadata": {},
   "outputs": [
    {
     "data": {
      "text/html": [
       "<div>\n",
       "<style scoped>\n",
       "    .dataframe tbody tr th:only-of-type {\n",
       "        vertical-align: middle;\n",
       "    }\n",
       "\n",
       "    .dataframe tbody tr th {\n",
       "        vertical-align: top;\n",
       "    }\n",
       "\n",
       "    .dataframe thead th {\n",
       "        text-align: right;\n",
       "    }\n",
       "</style>\n",
       "<table border=\"1\" class=\"dataframe\">\n",
       "  <thead>\n",
       "    <tr style=\"text-align: right;\">\n",
       "      <th></th>\n",
       "      <th>Description</th>\n",
       "      <th>Price</th>\n",
       "      <th>Rating</th>\n",
       "      <th>Review_Count</th>\n",
       "      <th>displaySize</th>\n",
       "      <th>Memory</th>\n",
       "      <th>Color</th>\n",
       "      <th>Brand</th>\n",
       "      <th>Url</th>\n",
       "    </tr>\n",
       "  </thead>\n",
       "  <tbody>\n",
       "    <tr>\n",
       "      <th>0</th>\n",
       "      <td>moto g stylus | 2022 | 2-day battery | unlocke...</td>\n",
       "      <td>267.52</td>\n",
       "      <td>4.35</td>\n",
       "      <td>1051.0</td>\n",
       "      <td>6.8</td>\n",
       "      <td>128</td>\n",
       "      <td>black</td>\n",
       "      <td>motorola</td>\n",
       "      <td>https://www.amazon.com/Stylus-battery-Unlocked...</td>\n",
       "    </tr>\n",
       "    <tr>\n",
       "      <th>1</th>\n",
       "      <td>samsung electronics galaxy note 20 5g unlocked...</td>\n",
       "      <td>255.99</td>\n",
       "      <td>4.25</td>\n",
       "      <td>1430.0</td>\n",
       "      <td>6.7</td>\n",
       "      <td>128.0</td>\n",
       "      <td>mysticgray</td>\n",
       "      <td>samsung</td>\n",
       "      <td>https://www.amazon.com/Samsung-Electronics-Unl...</td>\n",
       "    </tr>\n",
       "    <tr>\n",
       "      <th>2</th>\n",
       "      <td>samsung galaxy s10e, 128gb, flamingo pink - un...</td>\n",
       "      <td>128.00</td>\n",
       "      <td>4.35</td>\n",
       "      <td>11912.0</td>\n",
       "      <td>5.80</td>\n",
       "      <td>128</td>\n",
       "      <td>flamingopink</td>\n",
       "      <td>samsung</td>\n",
       "      <td>https://www.amazon.com/Samsung-Factory-Unlocke...</td>\n",
       "    </tr>\n",
       "    <tr>\n",
       "      <th>3</th>\n",
       "      <td>tracfone tcl flip 2, 8gb, black - prepaid flip...</td>\n",
       "      <td>19.99</td>\n",
       "      <td>4.05</td>\n",
       "      <td>370.0</td>\n",
       "      <td>1.44</td>\n",
       "      <td>8</td>\n",
       "      <td>black</td>\n",
       "      <td>tracfone</td>\n",
       "      <td>https://www.amazon.com/TracFone-Flip-Prepaid-P...</td>\n",
       "    </tr>\n",
       "    <tr>\n",
       "      <th>4</th>\n",
       "      <td>samsung galaxy a03 core (sm-a032/ds) dual sim ...</td>\n",
       "      <td>85.79</td>\n",
       "      <td>3.95</td>\n",
       "      <td>1402.0</td>\n",
       "      <td>6.5</td>\n",
       "      <td>32</td>\n",
       "      <td>black</td>\n",
       "      <td>samsung</td>\n",
       "      <td>https://www.amazon.com/Samsung-Galaxy-A03-Core...</td>\n",
       "    </tr>\n",
       "  </tbody>\n",
       "</table>\n",
       "</div>"
      ],
      "text/plain": [
       "                                         Description   Price  Rating  \\\n",
       "0  moto g stylus | 2022 | 2-day battery | unlocke...  267.52    4.35   \n",
       "1  samsung electronics galaxy note 20 5g unlocked...  255.99    4.25   \n",
       "2  samsung galaxy s10e, 128gb, flamingo pink - un...  128.00    4.35   \n",
       "3  tracfone tcl flip 2, 8gb, black - prepaid flip...   19.99    4.05   \n",
       "4  samsung galaxy a03 core (sm-a032/ds) dual sim ...   85.79    3.95   \n",
       "\n",
       "   Review_Count displaySize Memory         Color     Brand  \\\n",
       "0        1051.0         6.8    128         black  motorola   \n",
       "1        1430.0         6.7  128.0    mysticgray   samsung   \n",
       "2       11912.0        5.80    128  flamingopink   samsung   \n",
       "3         370.0        1.44      8         black  tracfone   \n",
       "4        1402.0         6.5     32         black   samsung   \n",
       "\n",
       "                                                 Url  \n",
       "0  https://www.amazon.com/Stylus-battery-Unlocked...  \n",
       "1  https://www.amazon.com/Samsung-Electronics-Unl...  \n",
       "2  https://www.amazon.com/Samsung-Factory-Unlocke...  \n",
       "3  https://www.amazon.com/TracFone-Flip-Prepaid-P...  \n",
       "4  https://www.amazon.com/Samsung-Galaxy-A03-Core...  "
      ]
     },
     "execution_count": 172,
     "metadata": {},
     "output_type": "execute_result"
    }
   ],
   "source": [
    "new_df.head()"
   ]
  },
  {
   "cell_type": "code",
   "execution_count": 173,
   "metadata": {},
   "outputs": [
    {
     "data": {
      "text/html": [
       "<div>\n",
       "<style scoped>\n",
       "    .dataframe tbody tr th:only-of-type {\n",
       "        vertical-align: middle;\n",
       "    }\n",
       "\n",
       "    .dataframe tbody tr th {\n",
       "        vertical-align: top;\n",
       "    }\n",
       "\n",
       "    .dataframe thead th {\n",
       "        text-align: right;\n",
       "    }\n",
       "</style>\n",
       "<table border=\"1\" class=\"dataframe\">\n",
       "  <thead>\n",
       "    <tr style=\"text-align: right;\">\n",
       "      <th></th>\n",
       "      <th>count</th>\n",
       "      <th>mean</th>\n",
       "      <th>std</th>\n",
       "      <th>min</th>\n",
       "      <th>25%</th>\n",
       "      <th>50%</th>\n",
       "      <th>75%</th>\n",
       "      <th>max</th>\n",
       "    </tr>\n",
       "  </thead>\n",
       "  <tbody>\n",
       "    <tr>\n",
       "      <th>Price</th>\n",
       "      <td>1885.0</td>\n",
       "      <td>224.721231</td>\n",
       "      <td>447.368889</td>\n",
       "      <td>5.99</td>\n",
       "      <td>64.99</td>\n",
       "      <td>129.99</td>\n",
       "      <td>189.99</td>\n",
       "      <td>3799.99</td>\n",
       "    </tr>\n",
       "    <tr>\n",
       "      <th>Rating</th>\n",
       "      <td>1885.0</td>\n",
       "      <td>3.891326</td>\n",
       "      <td>0.727154</td>\n",
       "      <td>1.05</td>\n",
       "      <td>3.75</td>\n",
       "      <td>3.95</td>\n",
       "      <td>4.35</td>\n",
       "      <td>5.05</td>\n",
       "    </tr>\n",
       "    <tr>\n",
       "      <th>Review_Count</th>\n",
       "      <td>1885.0</td>\n",
       "      <td>862.277984</td>\n",
       "      <td>3642.558408</td>\n",
       "      <td>1.00</td>\n",
       "      <td>30.00</td>\n",
       "      <td>179.00</td>\n",
       "      <td>426.00</td>\n",
       "      <td>50695.00</td>\n",
       "    </tr>\n",
       "  </tbody>\n",
       "</table>\n",
       "</div>"
      ],
      "text/plain": [
       "               count        mean          std   min    25%     50%     75%  \\\n",
       "Price         1885.0  224.721231   447.368889  5.99  64.99  129.99  189.99   \n",
       "Rating        1885.0    3.891326     0.727154  1.05   3.75    3.95    4.35   \n",
       "Review_Count  1885.0  862.277984  3642.558408  1.00  30.00  179.00  426.00   \n",
       "\n",
       "                   max  \n",
       "Price          3799.99  \n",
       "Rating            5.05  \n",
       "Review_Count  50695.00  "
      ]
     },
     "execution_count": 173,
     "metadata": {},
     "output_type": "execute_result"
    }
   ],
   "source": [
    "new_df.describe().T"
   ]
  },
  {
   "cell_type": "code",
   "execution_count": 174,
   "metadata": {},
   "outputs": [
    {
     "data": {
      "text/html": [
       "<div>\n",
       "<style scoped>\n",
       "    .dataframe tbody tr th:only-of-type {\n",
       "        vertical-align: middle;\n",
       "    }\n",
       "\n",
       "    .dataframe tbody tr th {\n",
       "        vertical-align: top;\n",
       "    }\n",
       "\n",
       "    .dataframe thead th {\n",
       "        text-align: right;\n",
       "    }\n",
       "</style>\n",
       "<table border=\"1\" class=\"dataframe\">\n",
       "  <thead>\n",
       "    <tr style=\"text-align: right;\">\n",
       "      <th></th>\n",
       "      <th>Description</th>\n",
       "      <th>Price</th>\n",
       "      <th>Rating</th>\n",
       "      <th>Review_Count</th>\n",
       "      <th>displaySize</th>\n",
       "      <th>Memory</th>\n",
       "      <th>Color</th>\n",
       "      <th>Brand</th>\n",
       "      <th>Url</th>\n",
       "    </tr>\n",
       "  </thead>\n",
       "  <tbody>\n",
       "    <tr>\n",
       "      <th>0</th>\n",
       "      <td>moto g stylus | 2022 | 2-day battery | unlocke...</td>\n",
       "      <td>267.52</td>\n",
       "      <td>4.35</td>\n",
       "      <td>1051.0</td>\n",
       "      <td>6.8</td>\n",
       "      <td>128</td>\n",
       "      <td>0</td>\n",
       "      <td>0</td>\n",
       "      <td>https://www.amazon.com/Stylus-battery-Unlocked...</td>\n",
       "    </tr>\n",
       "    <tr>\n",
       "      <th>1</th>\n",
       "      <td>samsung electronics galaxy note 20 5g unlocked...</td>\n",
       "      <td>255.99</td>\n",
       "      <td>4.25</td>\n",
       "      <td>1430.0</td>\n",
       "      <td>6.7</td>\n",
       "      <td>128.0</td>\n",
       "      <td>1</td>\n",
       "      <td>1</td>\n",
       "      <td>https://www.amazon.com/Samsung-Electronics-Unl...</td>\n",
       "    </tr>\n",
       "    <tr>\n",
       "      <th>2</th>\n",
       "      <td>samsung galaxy s10e, 128gb, flamingo pink - un...</td>\n",
       "      <td>128.00</td>\n",
       "      <td>4.35</td>\n",
       "      <td>11912.0</td>\n",
       "      <td>5.80</td>\n",
       "      <td>128</td>\n",
       "      <td>2</td>\n",
       "      <td>1</td>\n",
       "      <td>https://www.amazon.com/Samsung-Factory-Unlocke...</td>\n",
       "    </tr>\n",
       "    <tr>\n",
       "      <th>3</th>\n",
       "      <td>tracfone tcl flip 2, 8gb, black - prepaid flip...</td>\n",
       "      <td>19.99</td>\n",
       "      <td>4.05</td>\n",
       "      <td>370.0</td>\n",
       "      <td>1.44</td>\n",
       "      <td>8</td>\n",
       "      <td>0</td>\n",
       "      <td>2</td>\n",
       "      <td>https://www.amazon.com/TracFone-Flip-Prepaid-P...</td>\n",
       "    </tr>\n",
       "    <tr>\n",
       "      <th>4</th>\n",
       "      <td>samsung galaxy a03 core (sm-a032/ds) dual sim ...</td>\n",
       "      <td>85.79</td>\n",
       "      <td>3.95</td>\n",
       "      <td>1402.0</td>\n",
       "      <td>6.5</td>\n",
       "      <td>32</td>\n",
       "      <td>0</td>\n",
       "      <td>1</td>\n",
       "      <td>https://www.amazon.com/Samsung-Galaxy-A03-Core...</td>\n",
       "    </tr>\n",
       "  </tbody>\n",
       "</table>\n",
       "</div>"
      ],
      "text/plain": [
       "                                         Description   Price  Rating  \\\n",
       "0  moto g stylus | 2022 | 2-day battery | unlocke...  267.52    4.35   \n",
       "1  samsung electronics galaxy note 20 5g unlocked...  255.99    4.25   \n",
       "2  samsung galaxy s10e, 128gb, flamingo pink - un...  128.00    4.35   \n",
       "3  tracfone tcl flip 2, 8gb, black - prepaid flip...   19.99    4.05   \n",
       "4  samsung galaxy a03 core (sm-a032/ds) dual sim ...   85.79    3.95   \n",
       "\n",
       "   Review_Count displaySize Memory Color Brand  \\\n",
       "0        1051.0         6.8    128     0     0   \n",
       "1        1430.0         6.7  128.0     1     1   \n",
       "2       11912.0        5.80    128     2     1   \n",
       "3         370.0        1.44      8     0     2   \n",
       "4        1402.0         6.5     32     0     1   \n",
       "\n",
       "                                                 Url  \n",
       "0  https://www.amazon.com/Stylus-battery-Unlocked...  \n",
       "1  https://www.amazon.com/Samsung-Electronics-Unl...  \n",
       "2  https://www.amazon.com/Samsung-Factory-Unlocke...  \n",
       "3  https://www.amazon.com/TracFone-Flip-Prepaid-P...  \n",
       "4  https://www.amazon.com/Samsung-Galaxy-A03-Core...  "
      ]
     },
     "execution_count": 174,
     "metadata": {},
     "output_type": "execute_result"
    }
   ],
   "source": [
    "# array of data\n",
    "data = new_df['Color']\n",
    "# Tokenize each element in the array\n",
    "tokenized_data = [nltk.word_tokenize(sentence) for sentence in data]\n",
    "# Create a frequency distribution of the tokens\n",
    "freq_dist = nltk.FreqDist(token for sentence in tokenized_data for token in sentence)\n",
    "# Map each unique token to a unique number\n",
    "token_to_num = {token: num for num, (token, _) in enumerate(freq_dist.items())}\n",
    "# Tokenize the data using the mapping\n",
    "tokenized_data_nums = [[token_to_num[token] for token in sentence] for sentence in tokenized_data]\n",
    "# Print the tokenized data with numbers\n",
    "new_df['Color'] = tokenized_data_nums\n",
    "new_df['Color'] = [min(i) for i in new_df['Color']]\n",
    "# array of data\n",
    "data = new_df['Brand']\n",
    "# Tokenize each element in the array\n",
    "tokenized_data = [nltk.word_tokenize(sentence) for sentence in data]\n",
    "# Create a frequency distribution of the tokens\n",
    "freq_dist = nltk.FreqDist(token for sentence in tokenized_data for token in sentence)\n",
    "# Map each unique token to a unique number\n",
    "token_to_num = {token: num for num, (token, _) in enumerate(freq_dist.items())}\n",
    "# Tokenize the data using the mapping\n",
    "tokenized_data_nums = [[token_to_num[token] for token in sentence] for sentence in tokenized_data]\n",
    "# Print the tokenized data with numbers\n",
    "new_df['Brand'] = tokenized_data_nums\n",
    "new_df['Brand'] = [min(i) for i in new_df['Brand']]\n",
    "new_df['Color'] = new_df['Color'].apply(str)\n",
    "new_df['Brand'] = new_df['Brand'].apply(str)\n",
    "new_df = new_df.drop_duplicates()\n",
    "new_df.head()"
   ]
  },
  {
   "cell_type": "markdown",
   "metadata": {},
   "source": [
    "<h3>Feature Addition</h3>"
   ]
  },
  {
   "cell_type": "code",
   "execution_count": 175,
   "metadata": {},
   "outputs": [],
   "source": [
    "substring = 'unlocked'\n",
    "unlocked = []\n",
    "for i in new_df['Description']:\n",
    "    if substring in i:\n",
    "        unlocked.append(1)\n",
    "    else:\n",
    "        unlocked.append(0)\n",
    "new_df['Unlocked'] = unlocked\n",
    "substring = 'renew'\n",
    "renew = []\n",
    "for i in new_df['Description']:\n",
    "    if substring in i:\n",
    "        renew.append(1)\n",
    "    else:\n",
    "        renew.append(0)\n",
    "new_df['renew'] = renew"
   ]
  },
  {
   "cell_type": "code",
   "execution_count": 176,
   "metadata": {},
   "outputs": [
    {
     "data": {
      "text/plain": [
       "(1885, 11)"
      ]
     },
     "execution_count": 176,
     "metadata": {},
     "output_type": "execute_result"
    }
   ],
   "source": [
    "new_df.shape"
   ]
  },
  {
   "cell_type": "code",
   "execution_count": 177,
   "metadata": {},
   "outputs": [
    {
     "name": "stderr",
     "output_type": "stream",
     "text": [
      "C:\\Users\\harsha\\AppData\\Local\\Temp\\ipykernel_13592\\2825263243.py:4: SettingWithCopyWarning: \n",
      "A value is trying to be set on a copy of a slice from a DataFrame.\n",
      "Try using .loc[row_indexer,col_indexer] = value instead\n",
      "\n",
      "See the caveats in the documentation: https://pandas.pydata.org/pandas-docs/stable/user_guide/indexing.html#returning-a-view-versus-a-copy\n",
      "  new_data['displaySize'] = [float(i) if i!='' else 6.0 for i in new_data['displaySize']]\n"
     ]
    },
    {
     "data": {
      "text/html": [
       "<div>\n",
       "<style scoped>\n",
       "    .dataframe tbody tr th:only-of-type {\n",
       "        vertical-align: middle;\n",
       "    }\n",
       "\n",
       "    .dataframe tbody tr th {\n",
       "        vertical-align: top;\n",
       "    }\n",
       "\n",
       "    .dataframe thead th {\n",
       "        text-align: right;\n",
       "    }\n",
       "</style>\n",
       "<table border=\"1\" class=\"dataframe\">\n",
       "  <thead>\n",
       "    <tr style=\"text-align: right;\">\n",
       "      <th></th>\n",
       "      <th>Price</th>\n",
       "      <th>Rating</th>\n",
       "      <th>Review_Count</th>\n",
       "      <th>displaySize</th>\n",
       "      <th>Memory</th>\n",
       "      <th>Color</th>\n",
       "      <th>Brand</th>\n",
       "      <th>Unlocked</th>\n",
       "      <th>renew</th>\n",
       "    </tr>\n",
       "  </thead>\n",
       "  <tbody>\n",
       "    <tr>\n",
       "      <th>0</th>\n",
       "      <td>267.52</td>\n",
       "      <td>4.35</td>\n",
       "      <td>1051.0</td>\n",
       "      <td>6.80</td>\n",
       "      <td>128</td>\n",
       "      <td>0</td>\n",
       "      <td>0</td>\n",
       "      <td>1</td>\n",
       "      <td>0</td>\n",
       "    </tr>\n",
       "    <tr>\n",
       "      <th>1</th>\n",
       "      <td>255.99</td>\n",
       "      <td>4.25</td>\n",
       "      <td>1430.0</td>\n",
       "      <td>6.70</td>\n",
       "      <td>128.0</td>\n",
       "      <td>1</td>\n",
       "      <td>1</td>\n",
       "      <td>1</td>\n",
       "      <td>1</td>\n",
       "    </tr>\n",
       "    <tr>\n",
       "      <th>2</th>\n",
       "      <td>128.00</td>\n",
       "      <td>4.35</td>\n",
       "      <td>11912.0</td>\n",
       "      <td>5.80</td>\n",
       "      <td>128</td>\n",
       "      <td>2</td>\n",
       "      <td>1</td>\n",
       "      <td>1</td>\n",
       "      <td>1</td>\n",
       "    </tr>\n",
       "    <tr>\n",
       "      <th>3</th>\n",
       "      <td>19.99</td>\n",
       "      <td>4.05</td>\n",
       "      <td>370.0</td>\n",
       "      <td>1.44</td>\n",
       "      <td>8</td>\n",
       "      <td>0</td>\n",
       "      <td>2</td>\n",
       "      <td>0</td>\n",
       "      <td>0</td>\n",
       "    </tr>\n",
       "    <tr>\n",
       "      <th>4</th>\n",
       "      <td>85.79</td>\n",
       "      <td>3.95</td>\n",
       "      <td>1402.0</td>\n",
       "      <td>6.50</td>\n",
       "      <td>32</td>\n",
       "      <td>0</td>\n",
       "      <td>1</td>\n",
       "      <td>1</td>\n",
       "      <td>0</td>\n",
       "    </tr>\n",
       "  </tbody>\n",
       "</table>\n",
       "</div>"
      ],
      "text/plain": [
       "    Price  Rating  Review_Count  displaySize Memory Color Brand  Unlocked  \\\n",
       "0  267.52    4.35        1051.0         6.80    128     0     0         1   \n",
       "1  255.99    4.25        1430.0         6.70  128.0     1     1         1   \n",
       "2  128.00    4.35       11912.0         5.80    128     2     1         1   \n",
       "3   19.99    4.05         370.0         1.44      8     0     2         0   \n",
       "4   85.79    3.95        1402.0         6.50     32     0     1         1   \n",
       "\n",
       "   renew  \n",
       "0      0  \n",
       "1      1  \n",
       "2      1  \n",
       "3      0  \n",
       "4      0  "
      ]
     },
     "execution_count": 177,
     "metadata": {},
     "output_type": "execute_result"
    }
   ],
   "source": [
    "# Relevant features \n",
    "new_data = new_df\n",
    "new_data= new_data[['Price' , 'Rating' , 'Review_Count' , 'displaySize' ,'Memory','Color','Brand','Unlocked','renew']]\n",
    "new_data['displaySize'] = [float(i) if i!='' else 6.0 for i in new_data['displaySize']]\n",
    "new_data.to_csv('new_df.csv', index=False)\n",
    "new_data.head()"
   ]
  },
  {
   "cell_type": "code",
   "execution_count": 178,
   "metadata": {},
   "outputs": [],
   "source": [
    "new_data = pd.read_csv('new_df.csv')\n",
    "temp=[]\n",
    "for i in range(len(new_data['Price'])):\n",
    "    if new_data['Memory'][i]!='':\n",
    "        temp.append(float(new_data['Memory'][i]))\n",
    "    else:\n",
    "        if float(new_data['Price'][i])<50.0:\n",
    "            temp.append(4.0)\n",
    "        elif float(new_data['Price'][i])>50.0 and float(new_data['Price'][i])<200.0:\n",
    "            temp.append(32.0)\n",
    "        elif float(new_data['Price'][i])>200.0 and float(new_data['Price'][i])<1000.0 :\n",
    "            temp.append(128.0)\n",
    "        else:\n",
    "            temp.append(256.0)\n",
    "\n",
    "new_data['Memory'] = temp"
   ]
  },
  {
   "cell_type": "code",
   "execution_count": 179,
   "metadata": {},
   "outputs": [
    {
     "data": {
      "text/plain": [
       "1885"
      ]
     },
     "execution_count": 179,
     "metadata": {},
     "output_type": "execute_result"
    }
   ],
   "source": [
    "len(new_data['Rating'])"
   ]
  },
  {
   "cell_type": "code",
   "execution_count": 180,
   "metadata": {},
   "outputs": [],
   "source": [
    "temp = []\n",
    "for i in new_data['Rating']:\n",
    "    if(i<0.8):\n",
    "        temp.append(0)\n",
    "    elif(i>=0.8 and i<1.8):\n",
    "        temp.append(1)\n",
    "    elif(i>=1.8 and i<2.8):\n",
    "        temp.append(2)\n",
    "    elif(i>=2.8 and i<3.8):\n",
    "        temp.append(3)\n",
    "    elif(i>=3.8 and i<4.5):\n",
    "        temp.append(4)\n",
    "    elif(i>=4.5 and i<=5):\n",
    "        temp.append(5)\n",
    "    else:\n",
    "        temp.append(0)\n",
    "\n",
    "new_data['Revised_Rating'] = temp\n"
   ]
  },
  {
   "cell_type": "code",
   "execution_count": 181,
   "metadata": {},
   "outputs": [
    {
     "data": {
      "text/html": [
       "<div>\n",
       "<style scoped>\n",
       "    .dataframe tbody tr th:only-of-type {\n",
       "        vertical-align: middle;\n",
       "    }\n",
       "\n",
       "    .dataframe tbody tr th {\n",
       "        vertical-align: top;\n",
       "    }\n",
       "\n",
       "    .dataframe thead th {\n",
       "        text-align: right;\n",
       "    }\n",
       "</style>\n",
       "<table border=\"1\" class=\"dataframe\">\n",
       "  <thead>\n",
       "    <tr style=\"text-align: right;\">\n",
       "      <th></th>\n",
       "      <th>count</th>\n",
       "      <th>mean</th>\n",
       "      <th>std</th>\n",
       "      <th>min</th>\n",
       "      <th>25%</th>\n",
       "      <th>50%</th>\n",
       "      <th>75%</th>\n",
       "      <th>max</th>\n",
       "    </tr>\n",
       "  </thead>\n",
       "  <tbody>\n",
       "    <tr>\n",
       "      <th>Price</th>\n",
       "      <td>1885.0</td>\n",
       "      <td>224.721231</td>\n",
       "      <td>447.368889</td>\n",
       "      <td>5.99</td>\n",
       "      <td>64.99</td>\n",
       "      <td>129.99</td>\n",
       "      <td>189.99</td>\n",
       "      <td>3799.99</td>\n",
       "    </tr>\n",
       "    <tr>\n",
       "      <th>Rating</th>\n",
       "      <td>1885.0</td>\n",
       "      <td>3.891326</td>\n",
       "      <td>0.727154</td>\n",
       "      <td>1.05</td>\n",
       "      <td>3.75</td>\n",
       "      <td>3.95</td>\n",
       "      <td>4.35</td>\n",
       "      <td>5.05</td>\n",
       "    </tr>\n",
       "    <tr>\n",
       "      <th>Review_Count</th>\n",
       "      <td>1885.0</td>\n",
       "      <td>862.277984</td>\n",
       "      <td>3642.558408</td>\n",
       "      <td>1.00</td>\n",
       "      <td>30.00</td>\n",
       "      <td>179.00</td>\n",
       "      <td>426.00</td>\n",
       "      <td>50695.00</td>\n",
       "    </tr>\n",
       "    <tr>\n",
       "      <th>displaySize</th>\n",
       "      <td>1885.0</td>\n",
       "      <td>6.176881</td>\n",
       "      <td>1.102664</td>\n",
       "      <td>1.40</td>\n",
       "      <td>6.00</td>\n",
       "      <td>6.00</td>\n",
       "      <td>6.53</td>\n",
       "      <td>10.10</td>\n",
       "    </tr>\n",
       "    <tr>\n",
       "      <th>Memory</th>\n",
       "      <td>1181.0</td>\n",
       "      <td>94.879983</td>\n",
       "      <td>163.067350</td>\n",
       "      <td>0.00</td>\n",
       "      <td>15.00</td>\n",
       "      <td>32.00</td>\n",
       "      <td>128.00</td>\n",
       "      <td>1024.00</td>\n",
       "    </tr>\n",
       "    <tr>\n",
       "      <th>Color</th>\n",
       "      <td>1885.0</td>\n",
       "      <td>22.204775</td>\n",
       "      <td>19.145783</td>\n",
       "      <td>0.00</td>\n",
       "      <td>10.00</td>\n",
       "      <td>19.00</td>\n",
       "      <td>22.00</td>\n",
       "      <td>78.00</td>\n",
       "    </tr>\n",
       "    <tr>\n",
       "      <th>Brand</th>\n",
       "      <td>1885.0</td>\n",
       "      <td>18.083820</td>\n",
       "      <td>9.150858</td>\n",
       "      <td>0.00</td>\n",
       "      <td>13.00</td>\n",
       "      <td>17.00</td>\n",
       "      <td>19.00</td>\n",
       "      <td>48.00</td>\n",
       "    </tr>\n",
       "    <tr>\n",
       "      <th>Unlocked</th>\n",
       "      <td>1885.0</td>\n",
       "      <td>0.595225</td>\n",
       "      <td>0.490979</td>\n",
       "      <td>0.00</td>\n",
       "      <td>0.00</td>\n",
       "      <td>1.00</td>\n",
       "      <td>1.00</td>\n",
       "      <td>1.00</td>\n",
       "    </tr>\n",
       "    <tr>\n",
       "      <th>renew</th>\n",
       "      <td>1885.0</td>\n",
       "      <td>0.014324</td>\n",
       "      <td>0.118853</td>\n",
       "      <td>0.00</td>\n",
       "      <td>0.00</td>\n",
       "      <td>0.00</td>\n",
       "      <td>0.00</td>\n",
       "      <td>1.00</td>\n",
       "    </tr>\n",
       "    <tr>\n",
       "      <th>Revised_Rating</th>\n",
       "      <td>1885.0</td>\n",
       "      <td>3.442440</td>\n",
       "      <td>1.139199</td>\n",
       "      <td>0.00</td>\n",
       "      <td>3.00</td>\n",
       "      <td>4.00</td>\n",
       "      <td>4.00</td>\n",
       "      <td>5.00</td>\n",
       "    </tr>\n",
       "  </tbody>\n",
       "</table>\n",
       "</div>"
      ],
      "text/plain": [
       "                 count        mean          std   min    25%     50%     75%  \\\n",
       "Price           1885.0  224.721231   447.368889  5.99  64.99  129.99  189.99   \n",
       "Rating          1885.0    3.891326     0.727154  1.05   3.75    3.95    4.35   \n",
       "Review_Count    1885.0  862.277984  3642.558408  1.00  30.00  179.00  426.00   \n",
       "displaySize     1885.0    6.176881     1.102664  1.40   6.00    6.00    6.53   \n",
       "Memory          1181.0   94.879983   163.067350  0.00  15.00   32.00  128.00   \n",
       "Color           1885.0   22.204775    19.145783  0.00  10.00   19.00   22.00   \n",
       "Brand           1885.0   18.083820     9.150858  0.00  13.00   17.00   19.00   \n",
       "Unlocked        1885.0    0.595225     0.490979  0.00   0.00    1.00    1.00   \n",
       "renew           1885.0    0.014324     0.118853  0.00   0.00    0.00    0.00   \n",
       "Revised_Rating  1885.0    3.442440     1.139199  0.00   3.00    4.00    4.00   \n",
       "\n",
       "                     max  \n",
       "Price            3799.99  \n",
       "Rating              5.05  \n",
       "Review_Count    50695.00  \n",
       "displaySize        10.10  \n",
       "Memory           1024.00  \n",
       "Color              78.00  \n",
       "Brand              48.00  \n",
       "Unlocked            1.00  \n",
       "renew               1.00  \n",
       "Revised_Rating      5.00  "
      ]
     },
     "execution_count": 181,
     "metadata": {},
     "output_type": "execute_result"
    }
   ],
   "source": [
    "new_data.describe().T"
   ]
  },
  {
   "cell_type": "markdown",
   "metadata": {},
   "source": [
    "<h3>EDA(Exploratory data analysis)</h3>"
   ]
  },
  {
   "cell_type": "code",
   "execution_count": 182,
   "metadata": {},
   "outputs": [
    {
     "data": {
      "text/plain": [
       "<AxesSubplot:>"
      ]
     },
     "execution_count": 182,
     "metadata": {},
     "output_type": "execute_result"
    },
    {
     "data": {
      "image/png": "[encoded data removed]",
      "text/plain": [
       "<Figure size 432x288 with 2 Axes>"
      ]
     },
     "metadata": {
      "needs_background": "light"
     },
     "output_type": "display_data"
    }
   ],
   "source": [
    "plt.figure(figsize=(6,4))\n",
    "corr_data = new_data\n",
    "\n",
    "corr_mask = np.triu(corr_data.corr())\n",
    "h_map = sns.heatmap(corr_data.corr(), mask = corr_mask, cmap = 'Reds', annot=True)\n",
    "h_map"
   ]
  },
  {
   "cell_type": "code",
   "execution_count": 183,
   "metadata": {},
   "outputs": [],
   "source": [
    "def Outliers(data, x):\n",
    "    q25 = np.percentile(data[x], 25)\n",
    "    q75 = np.percentile(data[x], 75)\n",
    "    iqr = q75 - q25\n",
    "    cut_off = iqr * 1.5\n",
    "    lower, upper = 1, (q75 + cut_off)\n",
    "    data = data[(data[x] < upper) & (data[x] > lower)]\n",
    "    print(f\"Outliers of {x} are removed.\\n\")\n",
    "    return data"
   ]
  },
  {
   "cell_type": "code",
   "execution_count": 184,
   "metadata": {},
   "outputs": [
    {
     "name": "stdout",
     "output_type": "stream",
     "text": [
      "Outliers of Rating are removed.\n",
      "\n"
     ]
    }
   ],
   "source": [
    "data_rating = Outliers(new_data, 'Rating')"
   ]
  },
  {
   "cell_type": "code",
   "execution_count": 185,
   "metadata": {},
   "outputs": [
    {
     "name": "stdout",
     "output_type": "stream",
     "text": [
      "Outliers of Price are removed.\n",
      "\n"
     ]
    }
   ],
   "source": [
    "data_price = Outliers(new_data, 'Price')"
   ]
  },
  {
   "cell_type": "code",
   "execution_count": 186,
   "metadata": {},
   "outputs": [
    {
     "data": {
      "text/plain": [
       "((array([-3.34574786, -3.09144144, -2.95019352, ...,  2.95019352,\n",
       "          3.09144144,  3.34574786]),\n",
       "  array([  5.99,   9.89,   9.89, ..., 369.99, 369.99, 369.99])),\n",
       " (78.61198709191345, 117.76143280047367, 0.9612647431751729))"
      ]
     },
     "execution_count": 186,
     "metadata": {},
     "output_type": "execute_result"
    },
    {
     "data": {
      "image/png": "[encoded data removed]",
      "text/plain": [
       "<Figure size 1224x1080 with 2 Axes>"
      ]
     },
     "metadata": {
      "needs_background": "light"
     },
     "output_type": "display_data"
    }
   ],
   "source": [
    "fig = plt.figure(figsize=(17, 15))\n",
    "grid = GridSpec(ncols=1, nrows=2, figure=fig)\n",
    "\n",
    "# Histogram\n",
    "ax1 = fig.add_subplot(grid[0, :])\n",
    "sns.histplot(data_price['Price'], ax=ax1, kde=True)\n",
    "\n",
    "# QQ plot\n",
    "ax2 = fig.add_subplot(grid[1, :])\n",
    "stats.probplot(data_price['Price'], plot=ax2)"
   ]
  },
  {
   "cell_type": "code",
   "execution_count": 187,
   "metadata": {},
   "outputs": [
    {
     "data": {
      "text/plain": [
       "((array([-3.37606724, -3.12388528, -2.98394245, ...,  2.98394245,\n",
       "          3.12388528,  3.37606724]),\n",
       "  array([1.05, 1.05, 1.05, ..., 5.05, 5.05, 5.05])),\n",
       " (0.6598333433403832, 3.8913262599469496, 0.9062164282672998))"
      ]
     },
     "execution_count": 187,
     "metadata": {},
     "output_type": "execute_result"
    },
    {
     "data": {
      "image/png": "[encoded data removed]",
      "text/plain": [
       "<Figure size 1224x1080 with 2 Axes>"
      ]
     },
     "metadata": {
      "needs_background": "light"
     },
     "output_type": "display_data"
    }
   ],
   "source": [
    "fig = plt.figure(figsize=(17, 15))\n",
    "grid = GridSpec(ncols=1, nrows=2, figure=fig)\n",
    "\n",
    "# Histogram\n",
    "ax1 = fig.add_subplot(grid[0, :])\n",
    "sns.histplot(data_rating['Rating'], ax=ax1, kde=True)\n",
    "\n",
    "# QQ plot\n",
    "ax2 = fig.add_subplot(grid[1, :])\n",
    "stats.probplot(data_rating['Rating'], plot=ax2)"
   ]
  },
  {
   "cell_type": "code",
   "execution_count": 188,
   "metadata": {},
   "outputs": [
    {
     "data": {
      "text/plain": [
       "<AxesSubplot:>"
      ]
     },
     "execution_count": 188,
     "metadata": {},
     "output_type": "execute_result"
    },
    {
     "data": {
      "image/png": "[encoded data removed]",
      "text/plain": [
       "<Figure size 504x360 with 1 Axes>"
      ]
     },
     "metadata": {
      "needs_background": "light"
     },
     "output_type": "display_data"
    }
   ],
   "source": [
    "# Correlation of \"Churn\" with other variables\n",
    "plt.figure(figsize=(7,5))\n",
    "new_data.corr()['Rating'].sort_values(ascending = False).plot(kind='bar')"
   ]
  },
  {
   "cell_type": "code",
   "execution_count": 189,
   "metadata": {},
   "outputs": [
    {
     "data": {
      "image/png": "[encoded data removed]",
      "text/plain": [
       "<Figure size 576x432 with 1 Axes>"
      ]
     },
     "metadata": {
      "needs_background": "light"
     },
     "output_type": "display_data"
    }
   ],
   "source": [
    "# Plotting the Churn rate in the dataset\n",
    "colors = ['#4D3425','#E4512B']\n",
    "ax = (new_data['Revised_Rating'].value_counts()*100.0 /len(new_data)).plot(kind='bar',stacked = True,rot = 0,color = colors,figsize = (8,6))\n",
    "ax.yaxis.set_major_formatter(mtick.PercentFormatter())\n",
    "ax.set_ylabel('% Items',size = 14)\n",
    "ax.set_xlabel('Rating',size = 14)\n",
    "ax.set_title('Rating', size = 14)\n",
    "\n",
    "# create a list to collect the plt.patches data\n",
    "totals = []\n",
    "\n",
    "# find the values and append to list\n",
    "for i in ax.patches:\n",
    "    totals.append(i.get_width())\n"
   ]
  },
  {
   "cell_type": "code",
   "execution_count": 190,
   "metadata": {},
   "outputs": [
    {
     "data": {
      "text/plain": [
       "Text(0.5, 1.0, '% of Revised_Rating')"
      ]
     },
     "execution_count": 190,
     "metadata": {},
     "output_type": "execute_result"
    },
    {
     "data": {
      "image/png": "[encoded data removed]",
      "text/plain": [
       "<Figure size 360x360 with 1 Axes>"
      ]
     },
     "metadata": {},
     "output_type": "display_data"
    }
   ],
   "source": [
    "ax = (new_data['Revised_Rating'].value_counts()*100.0 /len(new_data))\\\n",
    ".plot.pie(autopct='%.1f%%', labels = ['4','3','5','0','1','2'],figsize =(5,5), fontsize = 12 )                                                                           \n",
    "ax.yaxis.set_major_formatter(mtick.PercentFormatter())\n",
    "ax.set_ylabel('Revised_Rating',fontsize = 12)\n",
    "ax.set_title('% of Revised_Rating', fontsize = 12)"
   ]
  },
  {
   "cell_type": "code",
   "execution_count": 191,
   "metadata": {},
   "outputs": [],
   "source": [
    "new_data = new_data.dropna()"
   ]
  },
  {
   "cell_type": "code",
   "execution_count": 192,
   "metadata": {},
   "outputs": [],
   "source": [
    "x = new_data[['Price' , 'Review_Count' , 'displaySize' ,'Memory','Color','Brand','Unlocked','renew']]\n",
    "y= new_data[['Revised_Rating']]"
   ]
  },
  {
   "cell_type": "code",
   "execution_count": 193,
   "metadata": {},
   "outputs": [],
   "source": [
    "#Seperating the Train, Test and Validation data\n",
    "X_train, X_test, y_train, y_test = train_test_split(x, y, test_size = 0.3, random_state = 0)\n",
    "X_test, X_validation, y_test, y_validation = train_test_split(X_test, y_test, test_size = 0.33, random_state = 0)"
   ]
  },
  {
   "cell_type": "code",
   "execution_count": 194,
   "metadata": {},
   "outputs": [
    {
     "name": "stdout",
     "output_type": "stream",
     "text": [
      "       Price  Review_Count  displaySize  Memory  Color  Brand  Unlocked  renew\n",
      "876   139.99         549.0         6.53    64.0      0     13         1      0\n",
      "1783  259.99        1271.0         6.50   128.0     78     13         1      0\n",
      "1340  339.99          79.0         6.30    15.0      0     34         1      0\n",
      "1482  159.99         222.0         6.53     4.0     11     13         1      0\n",
      "1277  239.00           8.0         6.80     4.0      9     11         1      0\n",
      "...      ...           ...          ...     ...    ...    ...       ...    ...\n",
      "660    64.99          38.0         5.50     2.0      0     27         0      0\n",
      "1767   69.99         130.0         2.00    16.0     27     20         1      0\n",
      "1875   57.98         560.0         5.00    16.0     58     31         1      0\n",
      "1330   69.99         123.0         1.80    16.0      0     20         1      0\n",
      "1811  189.99         179.0         6.70     6.0     41     13         1      0\n",
      "\n",
      "[237 rows x 8 columns]\n"
     ]
    }
   ],
   "source": [
    "print(X_test)"
   ]
  },
  {
   "cell_type": "code",
   "execution_count": 195,
   "metadata": {},
   "outputs": [],
   "source": [
    "#Standardized Scaling to fit the data in training the model\n",
    "sc = StandardScaler()\n",
    "X_train = sc.fit_transform(X_train)\n",
    "X_test = sc.transform(X_test)\n",
    "X_validation=sc.transform(X_validation)"
   ]
  },
  {
   "cell_type": "code",
   "execution_count": 196,
   "metadata": {},
   "outputs": [
    {
     "name": "stdout",
     "output_type": "stream",
     "text": [
      "[-0.2133653   0.05281398  0.20054712 -0.1871061  -0.98813581 -0.49893541\n",
      "  0.32520203 -0.14496067]\n"
     ]
    }
   ],
   "source": [
    "print(X_test[0])"
   ]
  },
  {
   "cell_type": "code",
   "execution_count": 197,
   "metadata": {},
   "outputs": [
    {
     "data": {
      "text/html": [
       "<div>\n",
       "<style scoped>\n",
       "    .dataframe tbody tr th:only-of-type {\n",
       "        vertical-align: middle;\n",
       "    }\n",
       "\n",
       "    .dataframe tbody tr th {\n",
       "        vertical-align: top;\n",
       "    }\n",
       "\n",
       "    .dataframe thead th {\n",
       "        text-align: right;\n",
       "    }\n",
       "</style>\n",
       "<table border=\"1\" class=\"dataframe\">\n",
       "  <thead>\n",
       "    <tr style=\"text-align: right;\">\n",
       "      <th></th>\n",
       "      <th>Revised_Rating</th>\n",
       "    </tr>\n",
       "  </thead>\n",
       "  <tbody>\n",
       "    <tr>\n",
       "      <th>1614</th>\n",
       "      <td>5</td>\n",
       "    </tr>\n",
       "    <tr>\n",
       "      <th>1031</th>\n",
       "      <td>3</td>\n",
       "    </tr>\n",
       "    <tr>\n",
       "      <th>697</th>\n",
       "      <td>3</td>\n",
       "    </tr>\n",
       "    <tr>\n",
       "      <th>1602</th>\n",
       "      <td>3</td>\n",
       "    </tr>\n",
       "    <tr>\n",
       "      <th>573</th>\n",
       "      <td>3</td>\n",
       "    </tr>\n",
       "    <tr>\n",
       "      <th>...</th>\n",
       "      <td>...</td>\n",
       "    </tr>\n",
       "    <tr>\n",
       "      <th>1647</th>\n",
       "      <td>3</td>\n",
       "    </tr>\n",
       "    <tr>\n",
       "      <th>1166</th>\n",
       "      <td>4</td>\n",
       "    </tr>\n",
       "    <tr>\n",
       "      <th>1292</th>\n",
       "      <td>3</td>\n",
       "    </tr>\n",
       "    <tr>\n",
       "      <th>815</th>\n",
       "      <td>4</td>\n",
       "    </tr>\n",
       "    <tr>\n",
       "      <th>1027</th>\n",
       "      <td>3</td>\n",
       "    </tr>\n",
       "  </tbody>\n",
       "</table>\n",
       "<p>826 rows × 1 columns</p>\n",
       "</div>"
      ],
      "text/plain": [
       "      Revised_Rating\n",
       "1614               5\n",
       "1031               3\n",
       "697                3\n",
       "1602               3\n",
       "573                3\n",
       "...              ...\n",
       "1647               3\n",
       "1166               4\n",
       "1292               3\n",
       "815                4\n",
       "1027               3\n",
       "\n",
       "[826 rows x 1 columns]"
      ]
     },
     "execution_count": 197,
     "metadata": {},
     "output_type": "execute_result"
    }
   ],
   "source": [
    "y_train"
   ]
  },
  {
   "cell_type": "code",
   "execution_count": 198,
   "metadata": {},
   "outputs": [
    {
     "name": "stderr",
     "output_type": "stream",
     "text": [
      "C:\\Users\\harsha\\AppData\\Local\\Temp\\ipykernel_13592\\3162173856.py:9: DataConversionWarning: A column-vector y was passed when a 1d array was expected. Please change the shape of y to (n_samples,), for example using ravel().\n",
      "  rfc.fit(X_train, y_train)\n"
     ]
    },
    {
     "name": "stdout",
     "output_type": "stream",
     "text": [
      "Accuracy: 0.9873417721518988\n"
     ]
    }
   ],
   "source": [
    "from sklearn.ensemble import RandomForestClassifier\n",
    "from sklearn.datasets import make_classification\n",
    "from sklearn.metrics import accuracy_score\n",
    "\n",
    "# Create a Random Forest Classifier with 100 trees\n",
    "rfc = RandomForestClassifier(n_estimators=100, random_state=42)\n",
    "\n",
    "# Fit the classifier to the training data\n",
    "rfc.fit(X_train, y_train)\n",
    "\n",
    "# Make predictions on the testing data\n",
    "y_pred = rfc.predict(X_test)\n",
    "\n",
    "# Evaluate the accuracy of the classifier\n",
    "accuracy = accuracy_score(y_test, y_pred)\n",
    "print(\"Accuracy:\", accuracy)"
   ]
  },
  {
   "cell_type": "code",
   "execution_count": 199,
   "metadata": {},
   "outputs": [
    {
     "data": {
      "text/plain": [
       "['..\\\\Project\\\\saved_models\\\\rfc_model.joblib']"
      ]
     },
     "execution_count": 199,
     "metadata": {},
     "output_type": "execute_result"
    }
   ],
   "source": [
    "import joblib\n",
    "# Save the model\n",
    "joblib.dump(rfc, '..\\\\Project\\\\saved_models\\\\rfc_model.joblib')"
   ]
  },
  {
   "cell_type": "code",
   "execution_count": 200,
   "metadata": {},
   "outputs": [
    {
     "data": {
      "image/png": "[encoded data removed]",
      "text/plain": [
       "<Figure size 432x288 with 2 Axes>"
      ]
     },
     "metadata": {
      "needs_background": "light"
     },
     "output_type": "display_data"
    }
   ],
   "source": [
    "# Create the confusion matrix\n",
    "cm = confusion_matrix(y_test, y_pred)\n",
    "\n",
    "# Visualize the confusion matrix using a heatmap\n",
    "sns.heatmap(cm, annot=True, cmap=\"Blues\", fmt=\"d\")\n",
    "plt.title(\"Confusion Matrix\")\n",
    "plt.xlabel(\"Predicted Labels\")\n",
    "plt.ylabel(\"True Labels\")\n",
    "plt.show()"
   ]
  },
  {
   "cell_type": "code",
   "execution_count": 201,
   "metadata": {},
   "outputs": [
    {
     "name": "stdout",
     "output_type": "stream",
     "text": [
      "              precision    recall  f1-score   support\n",
      "\n",
      "           0       0.00      0.00      0.00         1\n",
      "           1       1.00      1.00      1.00         9\n",
      "           2       1.00      1.00      1.00         4\n",
      "           3       1.00      0.98      0.99       124\n",
      "           4       0.96      1.00      0.98        77\n",
      "           5       1.00      1.00      1.00        22\n",
      "\n",
      "    accuracy                           0.99       237\n",
      "   macro avg       0.83      0.83      0.83       237\n",
      "weighted avg       0.98      0.99      0.99       237\n",
      "\n"
     ]
    },
    {
     "name": "stderr",
     "output_type": "stream",
     "text": [
      "c:\\python3.8\\lib\\site-packages\\sklearn\\metrics\\_classification.py:1318: UndefinedMetricWarning: Precision and F-score are ill-defined and being set to 0.0 in labels with no predicted samples. Use `zero_division` parameter to control this behavior.\n",
      "  _warn_prf(average, modifier, msg_start, len(result))\n",
      "c:\\python3.8\\lib\\site-packages\\sklearn\\metrics\\_classification.py:1318: UndefinedMetricWarning: Precision and F-score are ill-defined and being set to 0.0 in labels with no predicted samples. Use `zero_division` parameter to control this behavior.\n",
      "  _warn_prf(average, modifier, msg_start, len(result))\n",
      "c:\\python3.8\\lib\\site-packages\\sklearn\\metrics\\_classification.py:1318: UndefinedMetricWarning: Precision and F-score are ill-defined and being set to 0.0 in labels with no predicted samples. Use `zero_division` parameter to control this behavior.\n",
      "  _warn_prf(average, modifier, msg_start, len(result))\n"
     ]
    }
   ],
   "source": [
    "#Showing the Classification Report of Trained Decision Tree Model with test Data\n",
    "print(classification_report(y_test, y_pred))"
   ]
  }
 ],
 "metadata": {
  "kernelspec": {
   "display_name": "Python 3",
   "language": "python",
   "name": "python3"
  },
  "language_info": {
   "codemirror_mode": {
    "name": "ipython",
    "version": 3
   },
   "file_extension": ".py",
   "mimetype": "text/x-python",
   "name": "python",
   "nbconvert_exporter": "python",
   "pygments_lexer": "ipython3",
   "version": "3.8.10"
  },
  "orig_nbformat": 4,
  "vscode": {
   "interpreter": {
    "hash": "f94c5b3071b056423767ba33033da7874066049705ac9bddedb26ddd4b9c758b"
   }
  }
 },
 "nbformat": 4,
 "nbformat_minor": 2
}
