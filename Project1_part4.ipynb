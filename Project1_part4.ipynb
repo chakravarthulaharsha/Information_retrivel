{
 "cells": [
  {
   "cell_type": "code",
   "execution_count": 1,
   "metadata": {},
   "outputs": [],
   "source": [
    "import joblib\n",
    "from tensorflow.keras.models import load_model\n",
    "\n",
    "# Load the saved ann model\n",
    "ann = load_model(\"H:\\\\UNT_Classes\\\\Information retrival\\\\Project\\\\saved_models\\\\ann_model.h5\")\n",
    "\n",
    "# Load the saved rfc model\n",
    "rfc = joblib.load(\"H:\\\\UNT_Classes\\\\Information retrival\\\\Project\\\\saved_models\\\\rfc_model.joblib\")"
   ]
  },
  {
   "cell_type": "code",
   "execution_count": 9,
   "metadata": {},
   "outputs": [],
   "source": [
    "import bz2\n",
    "import numpy as np\n",
    "def get_labels_and_texts(file):\n",
    "    labels = []\n",
    "    texts = []\n",
    "    for line in bz2.BZ2File(file):   \n",
    "        x = line.decode(\"utf-8\")\n",
    "        labels.append(int(x[9]) - 1)\n",
    "        texts.append(x[10:].strip())\n",
    "    return np.array(labels), texts\n",
    "train_labels, train_texts = get_labels_and_texts('input/train.ft.txt.bz2')\n",
    "# test_labels, test_texts = get_labels_and_texts('input/test.ft.txt.bz2')"
   ]
  },
  {
   "cell_type": "code",
   "execution_count": 10,
   "metadata": {},
   "outputs": [],
   "source": [
    "import re\n",
    "NON_ALPHANUM = re.compile(r'[\\W]')\n",
    "NON_ASCII = re.compile(r'[^a-z0-1\\s]')\n",
    "def normalize_texts(texts):\n",
    "    normalized_texts = []\n",
    "    for text in texts:\n",
    "        lower = text.lower()\n",
    "        no_punctuation = NON_ALPHANUM.sub(r' ', lower)\n",
    "        no_non_ascii = NON_ASCII.sub(r'', no_punctuation)\n",
    "        normalized_texts.append(no_non_ascii)\n",
    "    return normalized_texts\n",
    "        \n",
    "train_texts = normalize_texts(train_texts)\n",
    "# test_texts = normalize_texts(test_texts)\n",
    "from sklearn.model_selection import train_test_split\n",
    "train_texts, val_texts, train_labels, val_labels = train_test_split(\n",
    "    train_texts, train_labels, random_state=57643892, test_size=0.2)"
   ]
  },
  {
   "cell_type": "code",
   "execution_count": 5,
   "metadata": {},
   "outputs": [],
   "source": [
    "from tensorflow.keras.preprocessing.text import Tokenizer, text_to_word_sequence\n",
    "from tensorflow.keras.preprocessing.sequence import pad_sequences\n",
    "MAX_FEATURES = 12000 \n",
    "tokenizer =  Tokenizer(num_words=MAX_FEATURES)\n",
    "tokenizer.fit_on_texts(train_texts)\n",
    "train_texts = tokenizer.texts_to_sequences(train_texts)\n",
    "MAX_LENGTH = max(len(train_ex) for train_ex in train_texts)"
   ]
  },
  {
   "cell_type": "code",
   "execution_count": 11,
   "metadata": {},
   "outputs": [
    {
     "name": "stdout",
     "output_type": "stream",
     "text": [
      "4\n"
     ]
    }
   ],
   "source": [
    "from sklearn.preprocessing import StandardScaler\n",
    "from tensorflow.keras.preprocessing.text import Tokenizer, text_to_word_sequence\n",
    "from tensorflow.keras.preprocessing.sequence import pad_sequences\n",
    "inp = [[267.52,1051.0,6.8,128.0,10,1,0,0,'great phone,  my lovely pat has one of the great voices of her generation  i have listened to this mobile for years and i still love it  when i m in a good mood it makes me feel better  a bad mood just evaporates like sugar in the rain  this phone just oozes life  vocals are jusat stuunning and lyrics just kill  one of life s hidden gems  this is a desert isle phone in my book  why she never made it big is just beyond me  everytime i play this  no matter black  white  young  old  male  female everybody says one thing  who was that singing']]\n",
    "inp1=[inp[0][:-1]]\n",
    "inp2 = normalize_texts([inp[0][-1]]) \n",
    "sc = StandardScaler()\n",
    "sc.fit(inp1)\n",
    "X_test = sc.transform(inp1)\n",
    "y_pred = rfc.predict(X_test)\n",
    "print(y_pred[0])\n",
    "\n",
    "inp2 = tokenizer.texts_to_sequences(inp2)\n",
    "inp2 = pad_sequences(inp2, maxlen=MAX_LENGTH)\n",
    "preds = ann.predict(inp2)"
   ]
  },
  {
   "cell_type": "code",
   "execution_count": 15,
   "metadata": {},
   "outputs": [
    {
     "name": "stdout",
     "output_type": "stream",
     "text": [
      "[[0.97276914]]\n"
     ]
    }
   ],
   "source": [
    "print(preds)"
   ]
  },
  {
   "cell_type": "code",
   "execution_count": 14,
   "metadata": {},
   "outputs": [
    {
     "name": "stdout",
     "output_type": "stream",
     "text": [
      "Positive\n"
     ]
    }
   ],
   "source": [
    "if(y_pred[0]>3):\n",
    "    senti = 'Positive'\n",
    "elif(y_pred[0]==3):\n",
    "    senti = 'Neutral'\n",
    "else:\n",
    "    senti = 'Negative'\n",
    "print(senti)"
   ]
  }
 ],
 "metadata": {
  "kernelspec": {
   "display_name": "Python 3",
   "language": "python",
   "name": "python3"
  },
  "language_info": {
   "codemirror_mode": {
    "name": "ipython",
    "version": 3
   },
   "file_extension": ".py",
   "mimetype": "text/x-python",
   "name": "python",
   "nbconvert_exporter": "python",
   "pygments_lexer": "ipython3",
   "version": "3.8.10"
  },
  "orig_nbformat": 4
 },
 "nbformat": 4,
 "nbformat_minor": 2
}
